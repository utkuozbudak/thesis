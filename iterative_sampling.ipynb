{
 "cells": [
  {
   "cell_type": "code",
   "execution_count": 1,
   "metadata": {},
   "outputs": [],
   "source": [
    "import numpy as np\n",
    "from sklearn.pipeline import Pipeline\n",
    "from swimnetworks_local import dense, linear\n",
    "from swimnetworks_local import deeponet, pod_deeponet"
   ]
  },
  {
   "cell_type": "markdown",
   "metadata": {},
   "source": [
    "### Read the data and split it into training and test sets"
   ]
  },
  {
   "cell_type": "code",
   "execution_count": 2,
   "metadata": {},
   "outputs": [
    {
     "name": "stdout",
     "output_type": "stream",
     "text": [
      "u0_train shape: (12000, 256)\n",
      "u0_test shape: (3000, 256)\n",
      "u1_train shape: (12000, 256)\n",
      "u1_test shape: (3000, 256)\n",
      "grid shape: (256, 1)\n"
     ]
    }
   ],
   "source": [
    "u0 = np.load(\"u0.npy\") # initial conditions\n",
    "u1 = np.load(\"u1.npy\") # solutions\n",
    "\n",
    "# Split data\n",
    "train_size = 12000\n",
    "\n",
    "u0_train, u0_test = u0[:train_size, :], u0[train_size:, :]\n",
    "u1_train, u1_test = u1[:train_size, :], u1[train_size:, :]\n",
    "epsilon = np.linspace(0, 2*np.pi, 256).reshape(-1, 1)\n",
    "\n",
    "\n",
    "# Print shapes\n",
    "print(f\"u0_train shape: {u0_train.shape}\")\n",
    "print(f\"u0_test shape: {u0_test.shape}\")\n",
    "print(f\"u1_train shape: {u1_train.shape}\")\n",
    "print(f\"u1_test shape: {u1_test.shape}\")\n",
    "print(f\"grid shape: {epsilon.shape}\")"
   ]
  },
  {
   "cell_type": "markdown",
   "metadata": {},
   "source": [
    "### Define the branch net and the trunk net"
   ]
  },
  {
   "cell_type": "code",
   "execution_count": 3,
   "metadata": {},
   "outputs": [
    {
     "name": "stdout",
     "output_type": "stream",
     "text": [
      "POD modes shape: (256, 32)\n",
      "T_tilda shape: (256, 32)\n",
      "After T shape: (256, 32)\n",
      "Iteration 0 | Relative L2 Loss: 0.41769499941868676\n"
     ]
    },
    {
     "ename": "IndexError",
     "evalue": "index 7164 is out of bounds for axis 0 with size 256",
     "output_type": "error",
     "traceback": [
      "\u001b[0;31m---------------------------------------------------------------------------\u001b[0m",
      "\u001b[0;31mIndexError\u001b[0m                                Traceback (most recent call last)",
      "\u001b[1;32m/Users/utkuozbudak/Desktop/Utku/TUM/Thesis/thesis/iterative_sampling.ipynb Cell 5\u001b[0m line \u001b[0;36m<cell line: 21>\u001b[0;34m()\u001b[0m\n\u001b[1;32m     <a href='vscode-notebook-cell:/Users/utkuozbudak/Desktop/Utku/TUM/Thesis/thesis/iterative_sampling.ipynb#W4sZmlsZQ%3D%3D?line=16'>17</a>\u001b[0m trunk_net \u001b[39m=\u001b[39m Pipeline(trunk_steps)\n\u001b[1;32m     <a href='vscode-notebook-cell:/Users/utkuozbudak/Desktop/Utku/TUM/Thesis/thesis/iterative_sampling.ipynb#W4sZmlsZQ%3D%3D?line=19'>20</a>\u001b[0m model \u001b[39m=\u001b[39m deeponet\u001b[39m.\u001b[39mDeepONet(branch_pipeline\u001b[39m=\u001b[39mbranch_net, trunk_pipeline\u001b[39m=\u001b[39mtrunk_net)\n\u001b[0;32m---> <a href='vscode-notebook-cell:/Users/utkuozbudak/Desktop/Utku/TUM/Thesis/thesis/iterative_sampling.ipynb#W4sZmlsZQ%3D%3D?line=20'>21</a>\u001b[0m model\u001b[39m.\u001b[39;49mfit(u0_train, u1_train, epsilon)\n",
      "File \u001b[0;32m~/Desktop/Utku/TUM/Thesis/thesis/swimnetworks_local/deeponet.py:40\u001b[0m, in \u001b[0;36mDeepONet.fit\u001b[0;34m(self, V, U, epsilon)\u001b[0m\n\u001b[1;32m     36\u001b[0m \u001b[39mself\u001b[39m\u001b[39m.\u001b[39mT \u001b[39m=\u001b[39m \u001b[39mself\u001b[39m\u001b[39m.\u001b[39mapply_pod(U)        \u001b[39m# (12000, 32) = (N, p)\u001b[39;00m\n\u001b[1;32m     38\u001b[0m \u001b[39mfor\u001b[39;00m iteration \u001b[39min\u001b[39;00m \u001b[39mrange\u001b[39m(\u001b[39mself\u001b[39m\u001b[39m.\u001b[39mmax_iter):\n\u001b[1;32m     39\u001b[0m     \u001b[39m# Step 2: Find the weights for the branch network\u001b[39;00m\n\u001b[0;32m---> 40\u001b[0m     \u001b[39mself\u001b[39;49m\u001b[39m.\u001b[39;49mbranch_pipeline\u001b[39m.\u001b[39;49mfit(V, \u001b[39mself\u001b[39;49m\u001b[39m.\u001b[39;49mT)\n\u001b[1;32m     42\u001b[0m     \u001b[39m# Step 3: Compute B_tilda, which is b(V) with the new weights\u001b[39;00m\n\u001b[1;32m     43\u001b[0m     B_tilda \u001b[39m=\u001b[39m \u001b[39mself\u001b[39m\u001b[39m.\u001b[39mbranch_pipeline\u001b[39m.\u001b[39mtransform(V)  \u001b[39m# (12000, 32) = (N, p)\u001b[39;00m\n",
      "File \u001b[0;32m~/opt/anaconda3/lib/python3.9/site-packages/sklearn/base.py:1151\u001b[0m, in \u001b[0;36m_fit_context.<locals>.decorator.<locals>.wrapper\u001b[0;34m(estimator, *args, **kwargs)\u001b[0m\n\u001b[1;32m   1144\u001b[0m     estimator\u001b[39m.\u001b[39m_validate_params()\n\u001b[1;32m   1146\u001b[0m \u001b[39mwith\u001b[39;00m config_context(\n\u001b[1;32m   1147\u001b[0m     skip_parameter_validation\u001b[39m=\u001b[39m(\n\u001b[1;32m   1148\u001b[0m         prefer_skip_nested_validation \u001b[39mor\u001b[39;00m global_skip_validation\n\u001b[1;32m   1149\u001b[0m     )\n\u001b[1;32m   1150\u001b[0m ):\n\u001b[0;32m-> 1151\u001b[0m     \u001b[39mreturn\u001b[39;00m fit_method(estimator, \u001b[39m*\u001b[39;49margs, \u001b[39m*\u001b[39;49m\u001b[39m*\u001b[39;49mkwargs)\n",
      "File \u001b[0;32m~/opt/anaconda3/lib/python3.9/site-packages/sklearn/pipeline.py:416\u001b[0m, in \u001b[0;36mPipeline.fit\u001b[0;34m(self, X, y, **fit_params)\u001b[0m\n\u001b[1;32m    390\u001b[0m \u001b[39m\"\"\"Fit the model.\u001b[39;00m\n\u001b[1;32m    391\u001b[0m \n\u001b[1;32m    392\u001b[0m \u001b[39mFit all the transformers one after the other and transform the\u001b[39;00m\n\u001b[0;32m   (...)\u001b[0m\n\u001b[1;32m    413\u001b[0m \u001b[39m    Pipeline with fitted steps.\u001b[39;00m\n\u001b[1;32m    414\u001b[0m \u001b[39m\"\"\"\u001b[39;00m\n\u001b[1;32m    415\u001b[0m fit_params_steps \u001b[39m=\u001b[39m \u001b[39mself\u001b[39m\u001b[39m.\u001b[39m_check_fit_params(\u001b[39m*\u001b[39m\u001b[39m*\u001b[39mfit_params)\n\u001b[0;32m--> 416\u001b[0m Xt \u001b[39m=\u001b[39m \u001b[39mself\u001b[39;49m\u001b[39m.\u001b[39;49m_fit(X, y, \u001b[39m*\u001b[39;49m\u001b[39m*\u001b[39;49mfit_params_steps)\n\u001b[1;32m    417\u001b[0m \u001b[39mwith\u001b[39;00m _print_elapsed_time(\u001b[39m\"\u001b[39m\u001b[39mPipeline\u001b[39m\u001b[39m\"\u001b[39m, \u001b[39mself\u001b[39m\u001b[39m.\u001b[39m_log_message(\u001b[39mlen\u001b[39m(\u001b[39mself\u001b[39m\u001b[39m.\u001b[39msteps) \u001b[39m-\u001b[39m \u001b[39m1\u001b[39m)):\n\u001b[1;32m    418\u001b[0m     \u001b[39mif\u001b[39;00m \u001b[39mself\u001b[39m\u001b[39m.\u001b[39m_final_estimator \u001b[39m!=\u001b[39m \u001b[39m\"\u001b[39m\u001b[39mpassthrough\u001b[39m\u001b[39m\"\u001b[39m:\n",
      "File \u001b[0;32m~/opt/anaconda3/lib/python3.9/site-packages/sklearn/pipeline.py:370\u001b[0m, in \u001b[0;36mPipeline._fit\u001b[0;34m(self, X, y, **fit_params_steps)\u001b[0m\n\u001b[1;32m    368\u001b[0m     cloned_transformer \u001b[39m=\u001b[39m clone(transformer)\n\u001b[1;32m    369\u001b[0m \u001b[39m# Fit or load from cache the current transformer\u001b[39;00m\n\u001b[0;32m--> 370\u001b[0m X, fitted_transformer \u001b[39m=\u001b[39m fit_transform_one_cached(\n\u001b[1;32m    371\u001b[0m     cloned_transformer,\n\u001b[1;32m    372\u001b[0m     X,\n\u001b[1;32m    373\u001b[0m     y,\n\u001b[1;32m    374\u001b[0m     \u001b[39mNone\u001b[39;49;00m,\n\u001b[1;32m    375\u001b[0m     message_clsname\u001b[39m=\u001b[39;49m\u001b[39m\"\u001b[39;49m\u001b[39mPipeline\u001b[39;49m\u001b[39m\"\u001b[39;49m,\n\u001b[1;32m    376\u001b[0m     message\u001b[39m=\u001b[39;49m\u001b[39mself\u001b[39;49m\u001b[39m.\u001b[39;49m_log_message(step_idx),\n\u001b[1;32m    377\u001b[0m     \u001b[39m*\u001b[39;49m\u001b[39m*\u001b[39;49mfit_params_steps[name],\n\u001b[1;32m    378\u001b[0m )\n\u001b[1;32m    379\u001b[0m \u001b[39m# Replace the transformer of the step with the fitted\u001b[39;00m\n\u001b[1;32m    380\u001b[0m \u001b[39m# transformer. This is necessary when loading the transformer\u001b[39;00m\n\u001b[1;32m    381\u001b[0m \u001b[39m# from the cache.\u001b[39;00m\n\u001b[1;32m    382\u001b[0m \u001b[39mself\u001b[39m\u001b[39m.\u001b[39msteps[step_idx] \u001b[39m=\u001b[39m (name, fitted_transformer)\n",
      "File \u001b[0;32m~/opt/anaconda3/lib/python3.9/site-packages/joblib/memory.py:349\u001b[0m, in \u001b[0;36mNotMemorizedFunc.__call__\u001b[0;34m(self, *args, **kwargs)\u001b[0m\n\u001b[1;32m    348\u001b[0m \u001b[39mdef\u001b[39;00m \u001b[39m__call__\u001b[39m(\u001b[39mself\u001b[39m, \u001b[39m*\u001b[39margs, \u001b[39m*\u001b[39m\u001b[39m*\u001b[39mkwargs):\n\u001b[0;32m--> 349\u001b[0m     \u001b[39mreturn\u001b[39;00m \u001b[39mself\u001b[39;49m\u001b[39m.\u001b[39;49mfunc(\u001b[39m*\u001b[39;49margs, \u001b[39m*\u001b[39;49m\u001b[39m*\u001b[39;49mkwargs)\n",
      "File \u001b[0;32m~/opt/anaconda3/lib/python3.9/site-packages/sklearn/pipeline.py:950\u001b[0m, in \u001b[0;36m_fit_transform_one\u001b[0;34m(transformer, X, y, weight, message_clsname, message, **fit_params)\u001b[0m\n\u001b[1;32m    948\u001b[0m \u001b[39mwith\u001b[39;00m _print_elapsed_time(message_clsname, message):\n\u001b[1;32m    949\u001b[0m     \u001b[39mif\u001b[39;00m \u001b[39mhasattr\u001b[39m(transformer, \u001b[39m\"\u001b[39m\u001b[39mfit_transform\u001b[39m\u001b[39m\"\u001b[39m):\n\u001b[0;32m--> 950\u001b[0m         res \u001b[39m=\u001b[39m transformer\u001b[39m.\u001b[39;49mfit_transform(X, y, \u001b[39m*\u001b[39;49m\u001b[39m*\u001b[39;49mfit_params)\n\u001b[1;32m    951\u001b[0m     \u001b[39melse\u001b[39;00m:\n\u001b[1;32m    952\u001b[0m         res \u001b[39m=\u001b[39m transformer\u001b[39m.\u001b[39mfit(X, y, \u001b[39m*\u001b[39m\u001b[39m*\u001b[39mfit_params)\u001b[39m.\u001b[39mtransform(X)\n",
      "File \u001b[0;32m~/Desktop/Utku/TUM/Thesis/thesis/swimnetworks_local/base.py:61\u001b[0m, in \u001b[0;36mBase.fit_transform\u001b[0;34m(self, x, y)\u001b[0m\n\u001b[1;32m     60\u001b[0m \u001b[39mdef\u001b[39;00m \u001b[39mfit_transform\u001b[39m(\u001b[39mself\u001b[39m, x, y\u001b[39m=\u001b[39m\u001b[39mNone\u001b[39;00m):\n\u001b[0;32m---> 61\u001b[0m     \u001b[39mself\u001b[39;49m\u001b[39m.\u001b[39;49mfit(x, y)\n\u001b[1;32m     62\u001b[0m     \u001b[39mreturn\u001b[39;00m \u001b[39mself\u001b[39m\u001b[39m.\u001b[39mtransform(x, y)\n",
      "File \u001b[0;32m~/Desktop/Utku/TUM/Thesis/thesis/swimnetworks_local/dense.py:42\u001b[0m, in \u001b[0;36mDense.fit\u001b[0;34m(self, x, y)\u001b[0m\n\u001b[1;32m     39\u001b[0m x, y \u001b[39m=\u001b[39m \u001b[39mself\u001b[39m\u001b[39m.\u001b[39mclean_inputs(x, y)\n\u001b[1;32m     40\u001b[0m rng \u001b[39m=\u001b[39m np\u001b[39m.\u001b[39mrandom\u001b[39m.\u001b[39mdefault_rng(\u001b[39mself\u001b[39m\u001b[39m.\u001b[39mrandom_seed)\n\u001b[0;32m---> 42\u001b[0m weights, biases, idx_from, idx_to \u001b[39m=\u001b[39m \u001b[39mself\u001b[39;49m\u001b[39m.\u001b[39;49mparameter_sampler(x, y, rng)\n\u001b[1;32m     44\u001b[0m \u001b[39mself\u001b[39m\u001b[39m.\u001b[39midx_from \u001b[39m=\u001b[39m idx_from\n\u001b[1;32m     45\u001b[0m \u001b[39mself\u001b[39m\u001b[39m.\u001b[39midx_to \u001b[39m=\u001b[39m idx_to\n",
      "File \u001b[0;32m~/Desktop/Utku/TUM/Thesis/thesis/swimnetworks_local/dense.py:55\u001b[0m, in \u001b[0;36mDense.sample_parameters_tanh\u001b[0;34m(self, x, y, rng)\u001b[0m\n\u001b[1;32m     52\u001b[0m \u001b[39mdef\u001b[39;00m \u001b[39msample_parameters_tanh\u001b[39m(\u001b[39mself\u001b[39m, x, y, rng):\n\u001b[1;32m     53\u001b[0m     scale \u001b[39m=\u001b[39m \u001b[39m0.5\u001b[39m \u001b[39m*\u001b[39m (np\u001b[39m.\u001b[39mlog(\u001b[39m1\u001b[39m \u001b[39m+\u001b[39m \u001b[39m1\u001b[39m\u001b[39m/\u001b[39m\u001b[39m2\u001b[39m) \u001b[39m-\u001b[39m np\u001b[39m.\u001b[39mlog(\u001b[39m1\u001b[39m \u001b[39m-\u001b[39m \u001b[39m1\u001b[39m\u001b[39m/\u001b[39m\u001b[39m2\u001b[39m))\n\u001b[0;32m---> 55\u001b[0m     directions, dists, idx_from, idx_to \u001b[39m=\u001b[39m \u001b[39mself\u001b[39;49m\u001b[39m.\u001b[39;49msample_parameters(x, y, rng)\n\u001b[1;32m     56\u001b[0m     weights \u001b[39m=\u001b[39m (\u001b[39m2\u001b[39m \u001b[39m*\u001b[39m scale \u001b[39m*\u001b[39m directions \u001b[39m/\u001b[39m dists)\u001b[39m.\u001b[39mT\n\u001b[1;32m     57\u001b[0m     biases \u001b[39m=\u001b[39m \u001b[39m-\u001b[39mnp\u001b[39m.\u001b[39msum(x[idx_from, :] \u001b[39m*\u001b[39m weights\u001b[39m.\u001b[39mT, axis\u001b[39m=\u001b[39m\u001b[39m-\u001b[39m\u001b[39m1\u001b[39m)\u001b[39m.\u001b[39mreshape(\u001b[39m1\u001b[39m, \u001b[39m-\u001b[39m\u001b[39m1\u001b[39m) \u001b[39m-\u001b[39m scale\n",
      "File \u001b[0;32m~/Desktop/Utku/TUM/Thesis/thesis/swimnetworks_local/dense.py:102\u001b[0m, in \u001b[0;36mDense.sample_parameters\u001b[0;34m(self, x, y, rng)\u001b[0m\n\u001b[1;32m     96\u001b[0m directions \u001b[39m=\u001b[39m directions \u001b[39m/\u001b[39m dists\n\u001b[1;32m     98\u001b[0m \u001b[39m#print(f\"cand_idx_from: {candidates_idx_from}\\n\")\u001b[39;00m\n\u001b[1;32m     99\u001b[0m \u001b[39m#print(f\"cand_idx_to: {candidates_idx_to}\\n\")\u001b[39;00m\n\u001b[1;32m    100\u001b[0m \u001b[39m#print(f\"y shape: {y.shape}\\n\")\u001b[39;00m\n\u001b[0;32m--> 102\u001b[0m dy \u001b[39m=\u001b[39m y[candidates_idx_to, :] \u001b[39m-\u001b[39m y[candidates_idx_from, :]\n\u001b[1;32m    103\u001b[0m \u001b[39mif\u001b[39;00m \u001b[39mself\u001b[39m\u001b[39m.\u001b[39mis_classifier:\n\u001b[1;32m    104\u001b[0m     dy[np\u001b[39m.\u001b[39mabs(dy) \u001b[39m>\u001b[39m \u001b[39m0\u001b[39m] \u001b[39m=\u001b[39m \u001b[39m1\u001b[39m\n",
      "\u001b[0;31mIndexError\u001b[0m: index 7164 is out of bounds for axis 0 with size 256"
     ]
    }
   ],
   "source": [
    "# Branch net\n",
    "branch_steps = [\n",
    "    (\"dense\", dense.Dense(layer_width=1024, activation=\"tanh\",\n",
    "                    parameter_sampler=\"tanh\",\n",
    "                    random_seed=42)),\n",
    "    (\"linear\", linear.Linear(regularization_scale=1e-10))\n",
    "]\n",
    "branch_net = Pipeline(branch_steps)\n",
    "\n",
    "# Trunk net\n",
    "trunk_steps = [\n",
    "    (\"dense\", dense.Dense(layer_width=1024, activation=\"tanh\",\n",
    "                    parameter_sampler=\"tanh\",\n",
    "                    random_seed=43)), \n",
    "    (\"linear\", linear.Linear(regularization_scale=1e-10))\n",
    "]\n",
    "trunk_net = Pipeline(trunk_steps)\n",
    "\n",
    "\n",
    "model = deeponet.DeepONet(branch_pipeline=branch_net, trunk_pipeline=trunk_net)\n",
    "model.fit(u0_train, u1_train, epsilon)\n"
   ]
  },
  {
   "cell_type": "code",
   "execution_count": null,
   "metadata": {},
   "outputs": [],
   "source": [
    "predictions = model.transform_branch(u0_test)\n",
    "\n",
    "# Mean Relative L2 Loss\n",
    "relative_L2_loss = np.sum(np.linalg.norm(predictions - u1_test, axis=1) / np.linalg.norm(u1_test, axis=1)) / u1_test.shape[0]\n",
    "print(f\"Mean Relative L2 Loss on Test Data: {relative_L2_loss}\")"
   ]
  }
 ],
 "metadata": {
  "kernelspec": {
   "display_name": "base",
   "language": "python",
   "name": "python3"
  },
  "language_info": {
   "codemirror_mode": {
    "name": "ipython",
    "version": 3
   },
   "file_extension": ".py",
   "mimetype": "text/x-python",
   "name": "python",
   "nbconvert_exporter": "python",
   "pygments_lexer": "ipython3",
   "version": "3.9.12"
  },
  "orig_nbformat": 4
 },
 "nbformat": 4,
 "nbformat_minor": 2
}
