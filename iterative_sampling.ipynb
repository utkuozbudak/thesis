{
 "cells": [
  {
   "cell_type": "code",
   "execution_count": 1,
   "metadata": {},
   "outputs": [],
   "source": [
    "import numpy as np\n",
    "from sklearn.pipeline import Pipeline\n",
    "from swimnetworks_local import dense, linear\n",
    "from swimnetworks_local import deeponet, pod_deeponet"
   ]
  },
  {
   "cell_type": "markdown",
   "metadata": {},
   "source": [
    "### Read the data and split it into training and test sets"
   ]
  },
  {
   "cell_type": "code",
   "execution_count": 2,
   "metadata": {},
   "outputs": [
    {
     "name": "stdout",
     "output_type": "stream",
     "text": [
      "u0_train shape: (12000, 256)\n",
      "u0_test shape: (3000, 256)\n",
      "u1_train shape: (12000, 256)\n",
      "u1_test shape: (3000, 256)\n",
      "grid shape: (256, 1)\n"
     ]
    }
   ],
   "source": [
    "u0 = np.load(\"u0.npy\") # initial conditions\n",
    "u1 = np.load(\"u1.npy\") # solutions\n",
    "\n",
    "# Split data\n",
    "n_samples = u0.shape[0] # number of samples\n",
    "train_size = int(0.8 * n_samples) # 80% of data for training\n",
    "\n",
    "u0_train, u0_test = u0[:train_size, :], u0[train_size:, :]\n",
    "u1_train, u1_test = u1[:train_size, :], u1[train_size:, :]\n",
    "epsilon = np.linspace(0, 2*np.pi, 256).reshape(-1, 1)\n",
    "\n",
    "# Print shapes\n",
    "print(f\"u0_train shape: {u0_train.shape}\")\n",
    "print(f\"u0_test shape: {u0_test.shape}\")\n",
    "print(f\"u1_train shape: {u1_train.shape}\")\n",
    "print(f\"u1_test shape: {u1_test.shape}\")\n",
    "print(f\"grid shape: {epsilon.shape}\")"
   ]
  },
  {
   "cell_type": "markdown",
   "metadata": {},
   "source": [
    "### Define the branch net and the trunk net"
   ]
  },
  {
   "cell_type": "code",
   "execution_count": 3,
   "metadata": {},
   "outputs": [
    {
     "name": "stdout",
     "output_type": "stream",
     "text": [
      "Iteration 0 | Relative L2 Loss: 0.41769499941868676\n",
      "Iteration 1 | Relative L2 Loss: 0.002431149975582499\n",
      "Iteration 2 | Relative L2 Loss: 0.0024308192202453656\n",
      "Converged after 2 iterations | Loss: 0.0024308192202453656\n"
     ]
    }
   ],
   "source": [
    "# Branch net\n",
    "branch_steps = [\n",
    "    (\"dense\", dense.Dense(layer_width=1024, activation=\"tanh\",\n",
    "                    parameter_sampler=\"tanh\",\n",
    "                    random_seed=42)),\n",
    "    (\"linear\", linear.Linear(regularization_scale=1e-10))\n",
    "]\n",
    "branch_net = Pipeline(branch_steps)\n",
    "\n",
    "# Trunk net\n",
    "trunk_steps = [\n",
    "    (\"dense\", dense.Dense(layer_width=1024, activation=\"tanh\",\n",
    "                    parameter_sampler=\"tanh\",\n",
    "                    random_seed=43)), \n",
    "    (\"linear\", linear.Linear(regularization_scale=1e-10))\n",
    "]\n",
    "trunk_net = Pipeline(trunk_steps)\n",
    "\n",
    "\n",
    "model = deeponet.DeepONet(branch_pipeline=branch_net, trunk_pipeline=trunk_net)\n",
    "model.fit(u0_train, u1_train, epsilon)\n"
   ]
  },
  {
   "cell_type": "code",
   "execution_count": 4,
   "metadata": {},
   "outputs": [
    {
     "name": "stdout",
     "output_type": "stream",
     "text": [
      "Mean Relative L2 Loss on Test Data: 0.0028609725000287908\n"
     ]
    }
   ],
   "source": [
    "predictions = model.transform(u0_test)\n",
    "\n",
    "# Mean Relative L2 Loss\n",
    "relative_L2_loss = np.sum(np.linalg.norm(predictions - u1_test, axis=1) / np.linalg.norm(u1_test, axis=1)) / u1_test.shape[0]\n",
    "print(f\"Mean Relative L2 Loss on Test Data: {relative_L2_loss}\")"
   ]
  },
  {
   "cell_type": "markdown",
   "metadata": {},
   "source": [
    "### Trying the POD-DeepONet with the same data"
   ]
  },
  {
   "cell_type": "code",
   "execution_count": 5,
   "metadata": {},
   "outputs": [
    {
     "data": {
      "text/html": [
       "<style>#sk-container-id-1 {color: black;}#sk-container-id-1 pre{padding: 0;}#sk-container-id-1 div.sk-toggleable {background-color: white;}#sk-container-id-1 label.sk-toggleable__label {cursor: pointer;display: block;width: 100%;margin-bottom: 0;padding: 0.3em;box-sizing: border-box;text-align: center;}#sk-container-id-1 label.sk-toggleable__label-arrow:before {content: \"▸\";float: left;margin-right: 0.25em;color: #696969;}#sk-container-id-1 label.sk-toggleable__label-arrow:hover:before {color: black;}#sk-container-id-1 div.sk-estimator:hover label.sk-toggleable__label-arrow:before {color: black;}#sk-container-id-1 div.sk-toggleable__content {max-height: 0;max-width: 0;overflow: hidden;text-align: left;background-color: #f0f8ff;}#sk-container-id-1 div.sk-toggleable__content pre {margin: 0.2em;color: black;border-radius: 0.25em;background-color: #f0f8ff;}#sk-container-id-1 input.sk-toggleable__control:checked~div.sk-toggleable__content {max-height: 200px;max-width: 100%;overflow: auto;}#sk-container-id-1 input.sk-toggleable__control:checked~label.sk-toggleable__label-arrow:before {content: \"▾\";}#sk-container-id-1 div.sk-estimator input.sk-toggleable__control:checked~label.sk-toggleable__label {background-color: #d4ebff;}#sk-container-id-1 div.sk-label input.sk-toggleable__control:checked~label.sk-toggleable__label {background-color: #d4ebff;}#sk-container-id-1 input.sk-hidden--visually {border: 0;clip: rect(1px 1px 1px 1px);clip: rect(1px, 1px, 1px, 1px);height: 1px;margin: -1px;overflow: hidden;padding: 0;position: absolute;width: 1px;}#sk-container-id-1 div.sk-estimator {font-family: monospace;background-color: #f0f8ff;border: 1px dotted black;border-radius: 0.25em;box-sizing: border-box;margin-bottom: 0.5em;}#sk-container-id-1 div.sk-estimator:hover {background-color: #d4ebff;}#sk-container-id-1 div.sk-parallel-item::after {content: \"\";width: 100%;border-bottom: 1px solid gray;flex-grow: 1;}#sk-container-id-1 div.sk-label:hover label.sk-toggleable__label {background-color: #d4ebff;}#sk-container-id-1 div.sk-serial::before {content: \"\";position: absolute;border-left: 1px solid gray;box-sizing: border-box;top: 0;bottom: 0;left: 50%;z-index: 0;}#sk-container-id-1 div.sk-serial {display: flex;flex-direction: column;align-items: center;background-color: white;padding-right: 0.2em;padding-left: 0.2em;position: relative;}#sk-container-id-1 div.sk-item {position: relative;z-index: 1;}#sk-container-id-1 div.sk-parallel {display: flex;align-items: stretch;justify-content: center;background-color: white;position: relative;}#sk-container-id-1 div.sk-item::before, #sk-container-id-1 div.sk-parallel-item::before {content: \"\";position: absolute;border-left: 1px solid gray;box-sizing: border-box;top: 0;bottom: 0;left: 50%;z-index: -1;}#sk-container-id-1 div.sk-parallel-item {display: flex;flex-direction: column;z-index: 1;position: relative;background-color: white;}#sk-container-id-1 div.sk-parallel-item:first-child::after {align-self: flex-end;width: 50%;}#sk-container-id-1 div.sk-parallel-item:last-child::after {align-self: flex-start;width: 50%;}#sk-container-id-1 div.sk-parallel-item:only-child::after {width: 0;}#sk-container-id-1 div.sk-dashed-wrapped {border: 1px dashed gray;margin: 0 0.4em 0.5em 0.4em;box-sizing: border-box;padding-bottom: 0.4em;background-color: white;}#sk-container-id-1 div.sk-label label {font-family: monospace;font-weight: bold;display: inline-block;line-height: 1.2em;}#sk-container-id-1 div.sk-label-container {text-align: center;}#sk-container-id-1 div.sk-container {/* jupyter's `normalize.less` sets `[hidden] { display: none; }` but bootstrap.min.css set `[hidden] { display: none !important; }` so we also need the `!important` here to be able to override the default hidden behavior on the sphinx rendered scikit-learn.org. See: https://github.com/scikit-learn/scikit-learn/issues/21755 */display: inline-block !important;position: relative;}#sk-container-id-1 div.sk-text-repr-fallback {display: none;}</style><div id=\"sk-container-id-1\" class=\"sk-top-container\"><div class=\"sk-text-repr-fallback\"><pre>DeepONetPOD(pipeline=Pipeline(steps=[(&#x27;dense&#x27;,\n",
       "                 Dense(activation=&lt;function Base.tanh_activation at 0x7f80fd50aee0&gt;, biases=array([[ 0.38405669, -0.02988148, -0.23111836, ..., -0.12158318,\n",
       "         2.93236497, -0.03510717]]), idx_from=array([ 3977, 11762,  2629, ...,  6448,  4200,  4708]), idx_to=array([6395, 4721, 3286, ..., 6899, 9343, 6355]), layer_width=1024, n_parameters=263168, parameter_sampler=&lt;bound metho...\n",
       "        -3.55171076e-02,  2.90195681e-01,  9.51703111e-02],\n",
       "       ...,\n",
       "       [-9.17473936e-04,  3.39485417e-02,  1.88575616e-02, ...,\n",
       "        -1.13206538e-03, -9.47241931e-04,  5.66547349e-04],\n",
       "       [-3.45691372e-04,  1.04877673e-02, -1.06208604e-02, ...,\n",
       "        -2.03914187e-04,  5.31764153e-04,  1.07069262e-03],\n",
       "       [-2.92748525e+00, -8.77053165e+01,  5.02618080e+00, ...,\n",
       "        -1.04808147e+00, -7.55308431e-01,  8.28965569e+00]])))]), n_modes=32)</pre><b>In a Jupyter environment, please rerun this cell to show the HTML representation or trust the notebook. <br />On GitHub, the HTML representation is unable to render, please try loading this page with nbviewer.org.</b></div><div class=\"sk-container\" hidden><div class=\"sk-item sk-dashed-wrapped\"><div class=\"sk-label-container\"><div class=\"sk-label sk-toggleable\"><input class=\"sk-toggleable__control sk-hidden--visually\" id=\"sk-estimator-id-1\" type=\"checkbox\" ><label for=\"sk-estimator-id-1\" class=\"sk-toggleable__label sk-toggleable__label-arrow\">DeepONetPOD</label><div class=\"sk-toggleable__content\"><pre>DeepONetPOD(pipeline=Pipeline(steps=[(&#x27;dense&#x27;,\n",
       "                 Dense(activation=&lt;function Base.tanh_activation at 0x7f80fd50aee0&gt;, biases=array([[ 0.38405669, -0.02988148, -0.23111836, ..., -0.12158318,\n",
       "         2.93236497, -0.03510717]]), idx_from=array([ 3977, 11762,  2629, ...,  6448,  4200,  4708]), idx_to=array([6395, 4721, 3286, ..., 6899, 9343, 6355]), layer_width=1024, n_parameters=263168, parameter_sampler=&lt;bound metho...\n",
       "        -3.55171076e-02,  2.90195681e-01,  9.51703111e-02],\n",
       "       ...,\n",
       "       [-9.17473936e-04,  3.39485417e-02,  1.88575616e-02, ...,\n",
       "        -1.13206538e-03, -9.47241931e-04,  5.66547349e-04],\n",
       "       [-3.45691372e-04,  1.04877673e-02, -1.06208604e-02, ...,\n",
       "        -2.03914187e-04,  5.31764153e-04,  1.07069262e-03],\n",
       "       [-2.92748525e+00, -8.77053165e+01,  5.02618080e+00, ...,\n",
       "        -1.04808147e+00, -7.55308431e-01,  8.28965569e+00]])))]), n_modes=32)</pre></div></div></div><div class=\"sk-parallel\"><div class=\"sk-parallel-item\"><div class=\"sk-item\"><div class=\"sk-label-container\"><div class=\"sk-label sk-toggleable\"><input class=\"sk-toggleable__control sk-hidden--visually\" id=\"sk-estimator-id-2\" type=\"checkbox\" ><label for=\"sk-estimator-id-2\" class=\"sk-toggleable__label sk-toggleable__label-arrow\">pipeline: Pipeline</label><div class=\"sk-toggleable__content\"><pre>Pipeline(steps=[(&#x27;dense&#x27;,\n",
       "                 Dense(activation=&lt;function Base.tanh_activation at 0x7f80fd50aee0&gt;, biases=array([[ 0.38405669, -0.02988148, -0.23111836, ..., -0.12158318,\n",
       "         2.93236497, -0.03510717]]), idx_from=array([ 3977, 11762,  2629, ...,  6448,  4200,  4708]), idx_to=array([6395, 4721, 3286, ..., 6899, 9343, 6355]), layer_width=1024, n_parameters=263168, parameter_sampler=&lt;bound metho...\n",
       "        -3.55171076e-02,  2.90195681e-01,  9.51703111e-02],\n",
       "       ...,\n",
       "       [-9.17473936e-04,  3.39485417e-02,  1.88575616e-02, ...,\n",
       "        -1.13206538e-03, -9.47241931e-04,  5.66547349e-04],\n",
       "       [-3.45691372e-04,  1.04877673e-02, -1.06208604e-02, ...,\n",
       "        -2.03914187e-04,  5.31764153e-04,  1.07069262e-03],\n",
       "       [-2.92748525e+00, -8.77053165e+01,  5.02618080e+00, ...,\n",
       "        -1.04808147e+00, -7.55308431e-01,  8.28965569e+00]])))])</pre></div></div></div><div class=\"sk-serial\"><div class=\"sk-item\"><div class=\"sk-serial\"><div class=\"sk-item\"><div class=\"sk-estimator sk-toggleable\"><input class=\"sk-toggleable__control sk-hidden--visually\" id=\"sk-estimator-id-3\" type=\"checkbox\" ><label for=\"sk-estimator-id-3\" class=\"sk-toggleable__label sk-toggleable__label-arrow\">Dense</label><div class=\"sk-toggleable__content\"><pre>Dense(is_classifier=False, layer_width=1024, activation=&lt;function Base.tanh_activation at 0x7f80fd50aee0&gt;, weights=array([[ 8.61310525e-03, -5.22191791e-03,  1.34874860e-02, ...,\n",
       "         1.95509810e-03,  2.28133798e-02, -8.06448438e-03],\n",
       "       [ 8.56938061e-03, -5.21593921e-03,  1.36256168e-02, ...,\n",
       "         2.60754229e-03,  2.30480252e-02, -8.07514958e-03],\n",
       "       [ 8.52585638e-03, -5.21413600e-03,  1.37543103e-02, ...,\n",
       "         3.26571676e-03,  2.32063308e-02, -8.07874592e-03],\n",
       "       ...,\n",
       "       [ 8.74402852e-03, -5.26880313e-03,  1.30203218e-02, ...,\n",
       "         7.19338098e-05,  2.16838977e-02, -7.98961691e-03],\n",
       "       [ 8.70056575e-03, -5.24801469e-03,  1.31844253e-02, ...,\n",
       "         6.83316415e-04,  2.21271842e-02, -8.02172338e-03],\n",
       "       [ 8.65688074e-03, -5.23248858e-03,  1.33402886e-02, ...,\n",
       "         1.31235933e-03,  2.25052011e-02, -8.04668424e-03]]), biases=array([[ 0.38405669, -0.02988148, -0.23111836, ..., -0.12158318,\n",
       "         2.93236497, -0.03510717]]), n_parameters=263168, input_shape=None, output_shape=None, parameter_sampler=&lt;bound method Dense.sample_parameters_tanh of ...&gt;, sample_uniformly=False, prune_duplicates=False, random_seed=42, dist_min=1e-10, repetition_scaler=1, idx_from=array([ 3977, 11762,  2629, ...,  6448,  4200,  4708]), idx_to=array([6395, 4721, 3286, ..., 6899, 9343, 6355]))</pre></div></div></div><div class=\"sk-item\"><div class=\"sk-estimator sk-toggleable\"><input class=\"sk-toggleable__control sk-hidden--visually\" id=\"sk-estimator-id-4\" type=\"checkbox\" ><label for=\"sk-estimator-id-4\" class=\"sk-toggleable__label sk-toggleable__label-arrow\">Linear</label><div class=\"sk-toggleable__content\"><pre>Linear(is_classifier=False, layer_width=32, activation=&lt;function Base.identity_activation at 0x7f80fd50adc0&gt;, weights=array([[ 2.06176919e+00, -1.85817350e+01, -3.97102679e+01, ...,\n",
       "         1.93564913e+00, -3.82975002e+00, -6.32388022e+00],\n",
       "       [ 4.35450364e+00,  4.06111188e+01,  6.21947427e+01, ...,\n",
       "         4.10602035e+00,  1.63341438e+01,  1.62478753e+01],\n",
       "       [ 6.29984840e-02, -4.55027478e-01, -5.95060688e+00, ...,\n",
       "        -3.55171076e-02,  2.90195681e-01,  9.51703111e-02],\n",
       "       ...,\n",
       "       [-9.17473936e-04,  3.39485417e-02,  1.88575616e-02, ...,\n",
       "        -1.13206538e-03, -9.47241931e-04,  5.66547349e-04],\n",
       "       [-3.45691372e-04,  1.04877673e-02, -1.06208604e-02, ...,\n",
       "        -2.03914187e-04,  5.31764153e-04,  1.07069262e-03],\n",
       "       [-2.92748525e+00, -8.77053165e+01,  5.02618080e+00, ...,\n",
       "        -1.04808147e+00, -7.55308431e-01,  8.28965569e+00]]), biases=array([[ -0.07212626,  -6.13174289,  -6.75664278,  -0.26376499,\n",
       "         13.22312737, -10.67987181,  -0.82923171,  -4.67453109,\n",
       "         -8.60617008,  -4.49077203,   0.17112548,  -9.27723229,\n",
       "          6.77925408,   2.17242217,  -4.51934595,  -3.12163437,\n",
       "          3.10684247,   0.39349318,   0.8311953 ,   0.01918734,\n",
       "         -0.30368185,  -0.46374321,   0.31090538,   0.29415643,\n",
       "          0.28867852,   0.38994427,  -0.22532014,   0.07188255,\n",
       "          0.02915783,   0.37605885,   0.369789  ,   0.14186996]]), n_parameters=32800, input_shape=None, output_shape=None, regularization_scale=1e-10)</pre></div></div></div></div></div></div></div></div></div></div></div></div>"
      ],
      "text/plain": [
       "DeepONetPOD(pipeline=Pipeline(steps=[('dense',\n",
       "                 Dense(activation=<function Base.tanh_activation at 0x7f80fd50aee0>, biases=array([[ 0.38405669, -0.02988148, -0.23111836, ..., -0.12158318,\n",
       "         2.93236497, -0.03510717]]), idx_from=array([ 3977, 11762,  2629, ...,  6448,  4200,  4708]), idx_to=array([6395, 4721, 3286, ..., 6899, 9343, 6355]), layer_width=1024, n_parameters=263168, parameter_sampler=<bound metho...\n",
       "        -3.55171076e-02,  2.90195681e-01,  9.51703111e-02],\n",
       "       ...,\n",
       "       [-9.17473936e-04,  3.39485417e-02,  1.88575616e-02, ...,\n",
       "        -1.13206538e-03, -9.47241931e-04,  5.66547349e-04],\n",
       "       [-3.45691372e-04,  1.04877673e-02, -1.06208604e-02, ...,\n",
       "        -2.03914187e-04,  5.31764153e-04,  1.07069262e-03],\n",
       "       [-2.92748525e+00, -8.77053165e+01,  5.02618080e+00, ...,\n",
       "        -1.04808147e+00, -7.55308431e-01,  8.28965569e+00]])))]), n_modes=32)"
      ]
     },
     "execution_count": 5,
     "metadata": {},
     "output_type": "execute_result"
    }
   ],
   "source": [
    "steps = [\n",
    "    (\"dense\", dense.Dense(layer_width=1024, activation=\"tanh\",\n",
    "                    parameter_sampler=\"tanh\",\n",
    "                    random_seed=42)),\n",
    "    (\"linear\", linear.Linear(regularization_scale=1e-10))\n",
    "]\n",
    "net = Pipeline(steps)\n",
    "\n",
    "pod_model = pod_deeponet.DeepONetPOD(net)\n",
    "pod_model.fit(u0_train, u1_train)"
   ]
  },
  {
   "cell_type": "code",
   "execution_count": 6,
   "metadata": {},
   "outputs": [
    {
     "name": "stdout",
     "output_type": "stream",
     "text": [
      "Mean Relative L2 Loss on Test Data: 0.0028620152898630965\n"
     ]
    }
   ],
   "source": [
    "pod_predictions = pod_model.transform(u0_test)\n",
    "\n",
    "# Mean Relative L2 Loss\n",
    "relative_L2_loss_pod = np.sum(np.linalg.norm(pod_predictions - u1_test, axis=1) / np.linalg.norm(u1_test, axis=1)) / u1_test.shape[0]\n",
    "print(f\"Mean Relative L2 Loss on Test Data: {relative_L2_loss_pod}\")"
   ]
  }
 ],
 "metadata": {
  "kernelspec": {
   "display_name": "base",
   "language": "python",
   "name": "python3"
  },
  "language_info": {
   "codemirror_mode": {
    "name": "ipython",
    "version": 3
   },
   "file_extension": ".py",
   "mimetype": "text/x-python",
   "name": "python",
   "nbconvert_exporter": "python",
   "pygments_lexer": "ipython3",
   "version": "3.9.12"
  },
  "orig_nbformat": 4
 },
 "nbformat": 4,
 "nbformat_minor": 2
}
