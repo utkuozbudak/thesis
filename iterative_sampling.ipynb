{
 "cells": [
  {
   "cell_type": "code",
   "execution_count": 1,
   "metadata": {},
   "outputs": [],
   "source": [
    "import numpy as np\n",
    "from sklearn.pipeline import Pipeline\n",
    "from swimnetworks_local import dense, linear\n",
    "from swimnetworks_local import deeponet"
   ]
  },
  {
   "cell_type": "markdown",
   "metadata": {},
   "source": [
    "### Read the data and split it into training and test sets"
   ]
  },
  {
   "cell_type": "code",
   "execution_count": 2,
   "metadata": {},
   "outputs": [
    {
     "name": "stdout",
     "output_type": "stream",
     "text": [
      "u0_train shape: (256, 12000)\n",
      "u0_test shape: (256, 3000)\n",
      "u1_train shape: (256, 12000)\n",
      "u1_test shape: (256, 3000)\n",
      "grid shape: (1, 256)\n"
     ]
    }
   ],
   "source": [
    "u0 = np.load(\"u0.npy\").T # initial conditions\n",
    "u1 = np.load(\"u1.npy\").T # solutions\n",
    "\n",
    "# Split data\n",
    "train_size = 12000\n",
    "\n",
    "u0_train, u0_test = u0[:, :train_size], u0[:, train_size:]\n",
    "u1_train, u1_test = u1[:, :train_size], u1[:, train_size:]\n",
    "epsilon = np.linspace(0, 2*np.pi, 256).reshape(1, -1) # grid\n",
    "\n",
    "# Print shapes\n",
    "print(f\"u0_train shape: {u0_train.shape}\")\n",
    "print(f\"u0_test shape: {u0_test.shape}\")\n",
    "print(f\"u1_train shape: {u1_train.shape}\")\n",
    "print(f\"u1_test shape: {u1_test.shape}\")\n",
    "print(f\"grid shape: {epsilon.shape}\")"
   ]
  },
  {
   "cell_type": "markdown",
   "metadata": {},
   "source": [
    "### Define the branch net and the trunk net"
   ]
  },
  {
   "cell_type": "code",
   "execution_count": 3,
   "metadata": {},
   "outputs": [
    {
     "name": "stdout",
     "output_type": "stream",
     "text": [
      "Iteration 0 | Loss: 0.9494296607789089\n",
      "Iteration 1 | Loss: 21.55759843813135\n",
      "Iteration 2 | Loss: 59.202861974266085\n",
      "Iteration 3 | Loss: 348.2756716000173\n",
      "Iteration 4 | Loss: 0.3027977794428526\n",
      "Iteration 5 | Loss: 28.456023661824617\n",
      "Iteration 6 | Loss: 77.56888875604922\n",
      "Iteration 7 | Loss: 948.4305507478466\n",
      "Iteration 8 | Loss: 111.41598943835525\n",
      "Iteration 9 | Loss: 2.04661466567235\n"
     ]
    }
   ],
   "source": [
    "# Branch net\n",
    "branch_steps = [\n",
    "    (\"dense\", dense.Dense(layer_width=1024, activation=\"tanh\",\n",
    "                    parameter_sampler=\"tanh\",\n",
    "                    random_seed=42)),\n",
    "    (\"linear\", linear.Linear(regularization_scale=1e-10))\n",
    "]\n",
    "branch_net = Pipeline(branch_steps)\n",
    "\n",
    "# Trunk net\n",
    "trunk_steps = [\n",
    "    (\"dense\", dense.Dense(layer_width=1024, activation=\"tanh\",\n",
    "                    parameter_sampler=\"tanh\",\n",
    "                    random_seed=43)), \n",
    "    (\"linear\", linear.Linear(regularization_scale=1e-10))\n",
    "]\n",
    "trunk_net = Pipeline(trunk_steps)\n",
    "\n",
    "\n",
    "model = deeponet.DeepONet(branch_pipeline=branch_net, trunk_pipeline=trunk_net)\n",
    "model.fit(u0_train, u1_train, epsilon)\n"
   ]
  },
  {
   "cell_type": "code",
   "execution_count": 4,
   "metadata": {},
   "outputs": [
    {
     "name": "stdout",
     "output_type": "stream",
     "text": [
      "Mean Squared Error on Test Data: 2398.7133245974214\n"
     ]
    }
   ],
   "source": [
    "predictions = model.transform(u0_test, epsilon)\n",
    "\n",
    "# MSE\n",
    "mse = np.mean((predictions - u1_test)**2)\n",
    "print(f\"Mean Squared Error on Test Data: {mse}\")"
   ]
  }
 ],
 "metadata": {
  "kernelspec": {
   "display_name": "base",
   "language": "python",
   "name": "python3"
  },
  "language_info": {
   "codemirror_mode": {
    "name": "ipython",
    "version": 3
   },
   "file_extension": ".py",
   "mimetype": "text/x-python",
   "name": "python",
   "nbconvert_exporter": "python",
   "pygments_lexer": "ipython3",
   "version": "3.9.12"
  },
  "orig_nbformat": 4
 },
 "nbformat": 4,
 "nbformat_minor": 2
}
