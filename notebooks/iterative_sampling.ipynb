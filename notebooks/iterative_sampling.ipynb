{
 "cells": [
  {
   "cell_type": "code",
   "execution_count": 1,
   "metadata": {},
   "outputs": [],
   "source": [
    "import sys\n",
    "sys.path.append('/Users/utkuozbudak/Desktop/Utku/TUM/Thesis/thesis')\n",
    "\n",
    "import matplotlib.pyplot as plt\n",
    "from sklearn.pipeline import Pipeline\n",
    "\n",
    "\n",
    "from data.training_data_client import TrainingDataClient\n",
    "from src.training.experiment_runner import ExperimentRunner"
   ]
  },
  {
   "cell_type": "markdown",
   "metadata": {},
   "source": [
    "### Read the data and split it into training and test sets"
   ]
  },
  {
   "cell_type": "code",
   "execution_count": 2,
   "metadata": {},
   "outputs": [
    {
     "name": "stdout",
     "output_type": "stream",
     "text": [
      "X_train shape: (12000, 256)\n",
      "X_test shape: (3000, 256)\n",
      "y_train shape: (12000, 256)\n",
      "y_test shape: (3000, 256)\n",
      "grid shape: (256, 1)\n"
     ]
    }
   ],
   "source": [
    "X_train, X_test, y_train, y_test, grid = TrainingDataClient.load_training_data(dataset=\"burgers\", \n",
    "                                                                               test_size=0.2,\n",
    "                                                                               verbose=True)"
   ]
  },
  {
   "cell_type": "markdown",
   "metadata": {},
   "source": [
    "### Define the branch net and the trunk net"
   ]
  },
  {
   "cell_type": "code",
   "execution_count": 3,
   "metadata": {},
   "outputs": [
    {
     "name": "stdout",
     "output_type": "stream",
     "text": [
      "Current experiment:\n",
      "n_modes:  8\n",
      "Branch net config:  {'dense_layer': {'layer_width': 1024, 'activation': 'tanh', 'parameter_sampler': 'tanh'}, 'linear_layer': {'regularization_scale': 1e-10}}\n",
      "Trunk net config:  {'dense_layer': {'layer_width': 512, 'activation': 'tanh', 'parameter_sampler': 'tanh'}, 'linear_layer': {'regularization_scale': 1e-10}}\n",
      "Iteration 1 | Relative L2 Loss: 0.7953974489165265\n",
      "Iteration 2 | Relative L2 Loss: 0.02060434401000823\n",
      "Iteration 3 | Relative L2 Loss: 0.020604344952917308\n",
      "No improvement for the last 1 iterations\n",
      "Iteration 4 | Relative L2 Loss: 0.020604345826933705\n",
      "No improvement for the last 2 iterations\n",
      "Iteration 5 | Relative L2 Loss: 0.020604346675892102\n",
      "No improvement for the last 3 iterations\n",
      "Converged after 5 iterations | Loss: 0.020604346675892102\n",
      "Iteration 1 | Relative L2 Loss: 0.7953970877062894\n",
      "Iteration 2 | Relative L2 Loss: 0.020595419382084656\n",
      "Iteration 3 | Relative L2 Loss: 0.02059542005837238\n",
      "No improvement for the last 1 iterations\n",
      "Iteration 4 | Relative L2 Loss: 0.020595420717012553\n",
      "No improvement for the last 2 iterations\n",
      "Iteration 5 | Relative L2 Loss: 0.02059542136228298\n",
      "No improvement for the last 3 iterations\n",
      "Converged after 5 iterations | Loss: 0.02059542136228298\n"
     ]
    }
   ],
   "source": [
    "results = ExperimentRunner.run(X_train, X_test, y_train, y_test, grid, num_experiments=2)"
   ]
  }
 ],
 "metadata": {
  "kernelspec": {
   "display_name": "base",
   "language": "python",
   "name": "python3"
  },
  "language_info": {
   "codemirror_mode": {
    "name": "ipython",
    "version": 3
   },
   "file_extension": ".py",
   "mimetype": "text/x-python",
   "name": "python",
   "nbconvert_exporter": "python",
   "pygments_lexer": "ipython3",
   "version": "3.9.12"
  },
  "orig_nbformat": 4
 },
 "nbformat": 4,
 "nbformat_minor": 2
}
