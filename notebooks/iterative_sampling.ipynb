{
 "cells": [
  {
   "cell_type": "code",
   "execution_count": 1,
   "metadata": {},
   "outputs": [],
   "source": [
    "import sys\n",
    "sys.path.append('/Users/utkuozbudak/Desktop/Utku/TUM/Thesis/thesis')\n",
    "\n",
    "from data.training_data_client import TrainingDataClient\n",
    "from src.training.experiment_runner import ExperimentRunner\n",
    "from src.training.experiment_runner_pod import ExperimentRunnerPOD\n",
    "from src.training.dense import Dense\n",
    "from src.training.linear import Linear\n",
    "from src.training.deeponet import DeepONet\n",
    "from src.training.pod_deeponet import DeepONetPOD\n",
    "# sklearn pipeline\n",
    "from sklearn.pipeline import Pipeline"
   ]
  },
  {
   "cell_type": "markdown",
   "metadata": {},
   "source": [
    "### Read the data and split it into training and test sets"
   ]
  },
  {
   "cell_type": "code",
   "execution_count": 2,
   "metadata": {},
   "outputs": [
    {
     "name": "stdout",
     "output_type": "stream",
     "text": [
      "X_train shape: (12000, 256)\n",
      "X_test shape: (3000, 256)\n",
      "y_train shape: (12000, 256)\n",
      "y_test shape: (3000, 256)\n",
      "grid shape: (256, 1)\n"
     ]
    }
   ],
   "source": [
    "X_train, X_test, y_train, y_test, grid = TrainingDataClient.load_training_data(dataset=\"burgers\", \n",
    "                                                                               test_size=0.2,\n",
    "                                                                               verbose=True)"
   ]
  },
  {
   "cell_type": "markdown",
   "metadata": {},
   "source": [
    "### DeepONet experimentation"
   ]
  },
  {
   "cell_type": "code",
   "execution_count": 3,
   "metadata": {},
   "outputs": [
    {
     "name": "stdout",
     "output_type": "stream",
     "text": [
      "Current experiment:\n",
      "n_modes:  2\n",
      "Branch net config:  {'dense_layer': {'layer_width': 256, 'activation': 'tanh', 'parameter_sampler': 'tanh'}, 'linear_layer': {'regularization_scale': 0.0001}}\n",
      "Trunk net config:  {'dense_layer': {'layer_width': 256, 'activation': 'tanh', 'parameter_sampler': 'tanh'}, 'linear_layer': {'regularization_scale': 0.0001}}\n",
      "goal_function_trunk shape: (256, 2)\n",
      "current loss:  0.40320385756755095\n",
      "Iteration 1 | Relative L2 Loss: 0.40320385756755095\n",
      "Iteration 1 | MSE Loss: 0.012278809310448426\n",
      "goal_function_trunk shape: (256, 2)\n",
      "current loss:  0.40320379225834735\n",
      "Iteration 2 | Relative L2 Loss: 0.40320379225834735\n",
      "Iteration 2 | MSE Loss: 0.0122788087405351\n",
      "No improvement for the last 1 iterations\n",
      "goal_function_trunk shape: (256, 2)\n",
      "current loss:  0.40320178555224817\n",
      "Iteration 3 | Relative L2 Loss: 0.40320178555224817\n",
      "Iteration 3 | MSE Loss: 0.01227867797137075\n",
      "goal_function_trunk shape: (256, 2)\n",
      "current loss:  0.4032017110184442\n",
      "Iteration 4 | Relative L2 Loss: 0.4032017110184442\n",
      "Iteration 4 | MSE Loss: 0.012278677489242211\n",
      "No improvement for the last 1 iterations\n",
      "goal_function_trunk shape: (256, 2)\n",
      "current loss:  0.4032016393959905\n",
      "Iteration 5 | Relative L2 Loss: 0.4032016393959905\n",
      "Iteration 5 | MSE Loss: 0.012278677025397502\n",
      "No improvement for the last 2 iterations\n",
      "goal_function_trunk shape: (256, 2)\n",
      "current loss:  0.4032015705582197\n",
      "Iteration 6 | Relative L2 Loss: 0.4032015705582197\n",
      "Iteration 6 | MSE Loss: 0.012278676599786244\n",
      "No improvement for the last 3 iterations\n",
      "Converged after 6 iterations | Loss: 0.4032015705582197\n"
     ]
    },
    {
     "ename": "KeyboardInterrupt",
     "evalue": "",
     "output_type": "error",
     "traceback": [
      "\u001b[0;31m---------------------------------------------------------------------------\u001b[0m",
      "\u001b[0;31mKeyboardInterrupt\u001b[0m                         Traceback (most recent call last)",
      "\u001b[1;32m/Users/utkuozbudak/Desktop/Utku/TUM/Thesis/thesis/notebooks/iterative_sampling.ipynb Cell 5\u001b[0m line \u001b[0;36m1\n\u001b[0;32m----> <a href='vscode-notebook-cell:/Users/utkuozbudak/Desktop/Utku/TUM/Thesis/thesis/notebooks/iterative_sampling.ipynb#W4sZmlsZQ%3D%3D?line=0'>1</a>\u001b[0m results \u001b[39m=\u001b[39m ExperimentRunner\u001b[39m.\u001b[39;49mrun(X_train, X_test, y_train, y_test, grid)\n",
      "File \u001b[0;32m~/Desktop/Utku/TUM/Thesis/thesis/src/training/experiment_runner.py:143\u001b[0m, in \u001b[0;36mExperimentRunner.run\u001b[0;34m(X_train, X_test, y_train, y_test, grid)\u001b[0m\n\u001b[1;32m    140\u001b[0m \u001b[39m@staticmethod\u001b[39m\n\u001b[1;32m    141\u001b[0m \u001b[39mdef\u001b[39;00m \u001b[39mrun\u001b[39m(X_train: np\u001b[39m.\u001b[39mndarray, X_test: np\u001b[39m.\u001b[39mndarray, y_train: np\u001b[39m.\u001b[39mndarray, y_test: np\u001b[39m.\u001b[39mndarray, grid):\n\u001b[1;32m    142\u001b[0m     runner \u001b[39m=\u001b[39m ExperimentRunner()\n\u001b[0;32m--> 143\u001b[0m     \u001b[39mreturn\u001b[39;00m runner\u001b[39m.\u001b[39;49m_run_experiments(X_train, X_test, y_train, y_test, grid)\n",
      "File \u001b[0;32m~/Desktop/Utku/TUM/Thesis/thesis/src/training/experiment_runner.py:91\u001b[0m, in \u001b[0;36mExperimentRunner._run_experiments\u001b[0;34m(self, X_train, X_test, y_train, y_test, grid)\u001b[0m\n\u001b[1;32m     89\u001b[0m \u001b[39m# fit model and save the experiment time\u001b[39;00m\n\u001b[1;32m     90\u001b[0m start_time \u001b[39m=\u001b[39m time\u001b[39m.\u001b[39mtime()\n\u001b[0;32m---> 91\u001b[0m results_dict \u001b[39m=\u001b[39m model\u001b[39m.\u001b[39;49mfit(X_train, y_train, grid, X_test, y_test)\n\u001b[1;32m     92\u001b[0m end_time \u001b[39m=\u001b[39m time\u001b[39m.\u001b[39mtime()\n\u001b[1;32m     93\u001b[0m experiment_time \u001b[39m=\u001b[39m end_time \u001b[39m-\u001b[39m start_time\n",
      "File \u001b[0;32m~/Desktop/Utku/TUM/Thesis/thesis/src/training/deeponet.py:49\u001b[0m, in \u001b[0;36mDeepONet.fit\u001b[0;34m(self, V, U, epsilon, V_test, U_test)\u001b[0m\n\u001b[1;32m     46\u001b[0m N, m \u001b[39m=\u001b[39m U\u001b[39m.\u001b[39mshape  \u001b[39m# m = 256, N = 12000 for Burgers \u001b[39;00m\n\u001b[1;32m     48\u001b[0m \u001b[39m# Step 1: Initializations\u001b[39;00m\n\u001b[0;32m---> 49\u001b[0m \u001b[39mself\u001b[39;49m\u001b[39m.\u001b[39;49m_set_pod(U)\n\u001b[1;32m     50\u001b[0m \u001b[39mself\u001b[39m\u001b[39m.\u001b[39mt_0 \u001b[39m=\u001b[39m \u001b[39mself\u001b[39m\u001b[39m.\u001b[39mpod_mean  \u001b[39m# (256,) = (m,)\u001b[39;00m\n\u001b[1;32m     51\u001b[0m \u001b[39mself\u001b[39m\u001b[39m.\u001b[39mT \u001b[39m=\u001b[39m \u001b[39mself\u001b[39m\u001b[39m.\u001b[39mpod_modes  \u001b[39m#  = (m, p)\u001b[39;00m\n",
      "File \u001b[0;32m~/Desktop/Utku/TUM/Thesis/thesis/src/training/deeponet.py:129\u001b[0m, in \u001b[0;36mDeepONet._set_pod\u001b[0;34m(self, U)\u001b[0m\n\u001b[1;32m    127\u001b[0m mean \u001b[39m=\u001b[39m U\u001b[39m.\u001b[39mmean(axis\u001b[39m=\u001b[39m\u001b[39m0\u001b[39m)\n\u001b[1;32m    128\u001b[0m shifted \u001b[39m=\u001b[39m U \u001b[39m-\u001b[39m mean\n\u001b[0;32m--> 129\u001b[0m _, _, vh \u001b[39m=\u001b[39m np\u001b[39m.\u001b[39;49mlinalg\u001b[39m.\u001b[39;49msvd(shifted)\n\u001b[1;32m    130\u001b[0m \u001b[39mself\u001b[39m\u001b[39m.\u001b[39mpod_mean \u001b[39m=\u001b[39m mean\n\u001b[1;32m    131\u001b[0m \u001b[39mself\u001b[39m\u001b[39m.\u001b[39mpod_modes \u001b[39m=\u001b[39m vh\u001b[39m.\u001b[39mT[:, : \u001b[39mself\u001b[39m\u001b[39m.\u001b[39mn_modes]\n",
      "File \u001b[0;32m~/Desktop/Utku/TUM/Thesis/thesis/venv/lib/python3.9/site-packages/numpy/linalg/linalg.py:1681\u001b[0m, in \u001b[0;36msvd\u001b[0;34m(a, full_matrices, compute_uv, hermitian)\u001b[0m\n\u001b[1;32m   1678\u001b[0m         gufunc \u001b[39m=\u001b[39m _umath_linalg\u001b[39m.\u001b[39msvd_n_s\n\u001b[1;32m   1680\u001b[0m signature \u001b[39m=\u001b[39m \u001b[39m'\u001b[39m\u001b[39mD->DdD\u001b[39m\u001b[39m'\u001b[39m \u001b[39mif\u001b[39;00m isComplexType(t) \u001b[39melse\u001b[39;00m \u001b[39m'\u001b[39m\u001b[39md->ddd\u001b[39m\u001b[39m'\u001b[39m\n\u001b[0;32m-> 1681\u001b[0m u, s, vh \u001b[39m=\u001b[39m gufunc(a, signature\u001b[39m=\u001b[39;49msignature, extobj\u001b[39m=\u001b[39;49mextobj)\n\u001b[1;32m   1682\u001b[0m u \u001b[39m=\u001b[39m u\u001b[39m.\u001b[39mastype(result_t, copy\u001b[39m=\u001b[39m\u001b[39mFalse\u001b[39;00m)\n\u001b[1;32m   1683\u001b[0m s \u001b[39m=\u001b[39m s\u001b[39m.\u001b[39mastype(_realType(result_t), copy\u001b[39m=\u001b[39m\u001b[39mFalse\u001b[39;00m)\n",
      "\u001b[0;31mKeyboardInterrupt\u001b[0m: "
     ]
    }
   ],
   "source": [
    "results = ExperimentRunner.run(X_train, X_test, y_train, y_test, grid)"
   ]
  },
  {
   "cell_type": "markdown",
   "metadata": {},
   "source": [
    "### POD-DeepONet experimentation"
   ]
  },
  {
   "cell_type": "code",
   "execution_count": 3,
   "metadata": {},
   "outputs": [
    {
     "name": "stdout",
     "output_type": "stream",
     "text": [
      "Current experiment:\n",
      "n_modes:  8\n",
      "PODDeepONet Network config:  {'dense_layer': {'layer_width': 128, 'activation': 'tanh', 'parameter_sampler': 'tanh'}, 'linear_layer': {'regularization_scale': 1e-10}}\n",
      "Dataset:  burgers\n"
     ]
    }
   ],
   "source": [
    "pod_results = ExperimentRunnerPOD.run(X_train, X_test, y_train, y_test, grid)"
   ]
  },
  {
   "cell_type": "code",
   "execution_count": 6,
   "metadata": {},
   "outputs": [
    {
     "name": "stdout",
     "output_type": "stream",
     "text": [
      "deeponet pod modes shape: (256, 32)\n",
      "Iteration 1 | Relative L2 Loss: 0.7951699523489734\n",
      "Iteration 2 | Relative L2 Loss: 0.00411596727832319\n",
      "Iteration 3 | Relative L2 Loss: 0.004115960125835005\n",
      "No improvement for the last 1 iterations\n",
      "Iteration 4 | Relative L2 Loss: 0.004115911190228134\n",
      "No improvement for the last 2 iterations\n",
      "Iteration 5 | Relative L2 Loss: 0.004115894872721704\n",
      "No improvement for the last 3 iterations\n",
      "Converged after 5 iterations | Loss: 0.004115894872721704\n"
     ]
    },
    {
     "data": {
      "text/plain": [
       "{'iteration_1_loss': 0.7951699523489734,\n",
       " 'iteration_1_mse_loss': 0.0482856281338776,\n",
       " 'iteration_2_loss': 0.00411596727832319,\n",
       " 'iteration_2_mse_loss': 2.086683938745811e-06,\n",
       " 'iteration_3_loss': 0.004115960125835005,\n",
       " 'iteration_3_mse_loss': 2.086574350504287e-06,\n",
       " 'iteration_4_loss': 0.004115911190228134,\n",
       " 'iteration_4_mse_loss': 2.0864645900572314e-06,\n",
       " 'iteration_5_loss': 0.004115894872721704,\n",
       " 'iteration_5_mse_loss': 2.086439644826229e-06,\n",
       " 'is_converged': True,\n",
       " 'iterations_to_convergence': 5}"
      ]
     },
     "execution_count": 6,
     "metadata": {},
     "output_type": "execute_result"
    }
   ],
   "source": [
    "# DeepONet\n",
    "branch_steps = [\n",
    "    (\"dense\", Dense(layer_width=1024, \n",
    "                    activation=\"tanh\",\n",
    "                    parameter_sampler=\"tanh\",\n",
    "                    random_seed=42)),\n",
    "    (\"linear\", Linear(regularization_scale=1e-6))\n",
    "]\n",
    "branch_net = Pipeline(branch_steps)\n",
    "\n",
    "# Trunk net\n",
    "trunk_steps = [\n",
    "    (\"dense\", Dense(layer_width=1024, \n",
    "                    activation=\"tanh\",\n",
    "                    parameter_sampler=\"tanh\",\n",
    "                    random_seed=42)),\n",
    "    (\"linear\", Linear(regularization_scale=1e-6))\n",
    "]\n",
    "trunk_net = Pipeline(trunk_steps)\n",
    "\n",
    "model = DeepONet(branch_pipeline=branch_net, trunk_pipeline=trunk_net)\n",
    "model.fit(X_train, y_train, grid)"
   ]
  },
  {
   "cell_type": "code",
   "execution_count": 3,
   "metadata": {},
   "outputs": [
    {
     "name": "stdout",
     "output_type": "stream",
     "text": [
      "pod-deeponet pod modes shape (256, 32)\n",
      "y shape: (12000, 256)pod_mean shape: (256,)pod_modes shape: (256, 32)\n",
      "goal shape: (12000, 32)\n"
     ]
    },
    {
     "data": {
      "text/plain": [
       "{'l2_mean_relative_loss': 0.004115873184758208,\n",
       " 'mse_loss': 2.085355467618138e-06}"
      ]
     },
     "execution_count": 3,
     "metadata": {},
     "output_type": "execute_result"
    }
   ],
   "source": [
    "# DeepONetPOD\n",
    "branch_steps = [\n",
    "    (\"dense\", Dense(layer_width=1024, \n",
    "                    activation=\"tanh\",\n",
    "                    parameter_sampler=\"tanh\",\n",
    "                    random_seed=42)),\n",
    "    (\"linear\", Linear(regularization_scale=1e-6))\n",
    "]\n",
    "branch_net = Pipeline(branch_steps)\n",
    "pod_model = DeepONetPOD(pipeline=branch_net)\n",
    "pod_model.fit(X_train, y_train)"
   ]
  }
 ],
 "metadata": {
  "kernelspec": {
   "display_name": "base",
   "language": "python",
   "name": "python3"
  },
  "language_info": {
   "codemirror_mode": {
    "name": "ipython",
    "version": 3
   },
   "file_extension": ".py",
   "mimetype": "text/x-python",
   "name": "python",
   "nbconvert_exporter": "python",
   "pygments_lexer": "ipython3",
   "version": "3.9.12"
  },
  "orig_nbformat": 4
 },
 "nbformat": 4,
 "nbformat_minor": 2
}
